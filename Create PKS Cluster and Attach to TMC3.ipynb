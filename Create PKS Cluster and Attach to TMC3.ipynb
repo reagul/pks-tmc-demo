{
 "cells": [
  {
   "cell_type": "markdown",
   "metadata": {},
   "source": [
    "# Agenda\n",
    "\n",
    "## Create a kubernetes cluster with VMware Enterprise PKS\n",
    "\n",
    "## Attach the cluster to VMware Tanzu Mission Control\n",
    "### Authenticate to the new K8s cluster\n",
    "### Verify connection to the K8s cluster\n",
    "\n",
    "## Login to VMware Tanzu Mission Control\n",
    "### Authenticate via tmc CLI\n",
    "### query cluster groups and clusters\n",
    "### Attach K8s cluster to Tanzu Mission Control\n",
    "\n",
    "## Retrospective \n",
    "___"
   ]
  },
  {
   "cell_type": "markdown",
   "metadata": {},
   "source": [
    "## Create PKS Kubernetes Cluster"
   ]
  },
  {
   "cell_type": "markdown",
   "metadata": {},
   "source": [
    "### Authenticate to your PKS API and review existing clusters"
   ]
  },
  {
   "cell_type": "code",
   "execution_count": null,
   "metadata": {},
   "outputs": [],
   "source": [
    "pks"
   ]
  },
  {
   "cell_type": "code",
   "execution_count": null,
   "metadata": {},
   "outputs": [],
   "source": [
    "APIURL=api.us.azure.bekind.io\n",
    "APIUSER=scott\n",
    "APIPASS=changeme\n",
    "#pks login -a $APIURL -u $APIUSER -p $APIPASS -k"
   ]
  },
  {
   "cell_type": "code",
   "execution_count": null,
   "metadata": {
    "scrolled": true
   },
   "outputs": [],
   "source": [
    "pks clusters"
   ]
  },
  {
   "cell_type": "markdown",
   "metadata": {},
   "source": [
    "*Example Output:*"
   ]
  },
  {
   "cell_type": "raw",
   "metadata": {},
   "source": [
    "Name        Plan Name  UUID                                  Status     Action\n",
    "test-demo   small      77e8836c-1849-46ed-999c-26be9672bc0e  succeeded  CREATE\n"
   ]
  },
  {
   "cell_type": "code",
   "execution_count": null,
   "metadata": {},
   "outputs": [],
   "source": [
    "pks cluster test-demo"
   ]
  },
  {
   "cell_type": "code",
   "execution_count": null,
   "metadata": {},
   "outputs": [],
   "source": [
    "pks plans"
   ]
  },
  {
   "cell_type": "markdown",
   "metadata": {},
   "source": [
    "### Create the PKS cluster"
   ]
  },
  {
   "cell_type": "code",
   "execution_count": null,
   "metadata": {},
   "outputs": [],
   "source": [
    "pks create-cluster"
   ]
  },
  {
   "cell_type": "markdown",
   "metadata": {},
   "source": [
    "### Decision time... "
   ]
  },
  {
   "cell_type": "markdown",
   "metadata": {},
   "source": [
    "Decide now how you will access the master node(s) of the resulting K8s cluster before you continue.\n",
    "\n",
    "In my case, I have a domain us.azure.bekind.io into which I will manually create a DNS entry for a load balancer whose backend points to a pool of master node(s).\n",
    "\n",
    "At the very least, if you specify an IP address in the \"external-hostname,\" you have to have already acquired that public IP address on your cloud provider.  This IP or DNS name should be publically accessible."
   ]
  },
  {
   "cell_type": "code",
   "execution_count": null,
   "metadata": {},
   "outputs": [],
   "source": [
    "pks create-cluster test-azure --external-hostname test.us.azure.bekind.io --plan small"
   ]
  },
  {
   "cell_type": "markdown",
   "metadata": {},
   "source": [
    "*Example Output:*"
   ]
  },
  {
   "cell_type": "raw",
   "metadata": {},
   "source": [
    "Name:                     test-demo\n",
    "Plan Name:                small\n",
    "UUID:                     7c2f04bc-a66e-4f7b-a9a4-79574bebb470\n",
    "Last Action:              CREATE\n",
    "Last Action State:        in progress\n",
    "Last Action Description:  Creating cluster\n",
    "Kubernetes Master Host:   test.us.azure.bekind.io\n",
    "Kubernetes Master Port:   8443\n",
    "Worker Nodes:             3\n",
    "Kubernetes Master IP(s):  In Progress\n",
    "Network Profile Name:\n",
    "\n",
    "Use 'pks cluster test-azure' to monitor the state of your cluster"
   ]
  },
  {
   "cell_type": "markdown",
   "metadata": {},
   "source": [
    "Monitor `pks clusters` until the cluster creation is successful"
   ]
  },
  {
   "cell_type": "code",
   "execution_count": null,
   "metadata": {},
   "outputs": [],
   "source": [
    "pks clusters"
   ]
  },
  {
   "cell_type": "markdown",
   "metadata": {},
   "source": [
    "Capture the credentials for your new K8s cluster"
   ]
  },
  {
   "cell_type": "code",
   "execution_count": null,
   "metadata": {},
   "outputs": [],
   "source": [
    "pks get-credentials test-azure"
   ]
  },
  {
   "cell_type": "markdown",
   "metadata": {},
   "source": [
    "Examine your new cluster"
   ]
  },
  {
   "cell_type": "code",
   "execution_count": null,
   "metadata": {},
   "outputs": [],
   "source": [
    "kubectl config use-context test-azure"
   ]
  },
  {
   "cell_type": "code",
   "execution_count": null,
   "metadata": {},
   "outputs": [],
   "source": [
    "kubectl cluster-info"
   ]
  },
  {
   "cell_type": "code",
   "execution_count": null,
   "metadata": {},
   "outputs": [],
   "source": [
    "kubectl get namespaces"
   ]
  },
  {
   "cell_type": "markdown",
   "metadata": {},
   "source": [
    "Notice above the following namespaces DO NOT exist:\n",
    "* vmware-system-tmc\n",
    "* postfacto"
   ]
  },
  {
   "cell_type": "markdown",
   "metadata": {},
   "source": [
    "# Attach the cluster to Tanzu Mission Control"
   ]
  },
  {
   "cell_type": "markdown",
   "metadata": {},
   "source": [
    "Login to TMC via https://console.cloud.vmware.com"
   ]
  },
  {
   "cell_type": "markdown",
   "metadata": {},
   "source": [
    "Download the TMC CLI, make it executable, and move it into your system path"
   ]
  },
  {
   "cell_type": "markdown",
   "metadata": {},
   "source": [
    "*Cluster names and environment variables*"
   ]
  },
  {
   "cell_type": "code",
   "execution_count": 3,
   "metadata": {},
   "outputs": [],
   "source": [
    "export TMC_CLUSTER_GROUP=cg-jbrightwell\n",
    "export TMC_CLUSTER=jbrightwell-c04"
   ]
  },
  {
   "cell_type": "code",
   "execution_count": null,
   "metadata": {},
   "outputs": [],
   "source": [
    "tmc"
   ]
  },
  {
   "cell_type": "code",
   "execution_count": null,
   "metadata": {},
   "outputs": [],
   "source": [
    "# tmc login"
   ]
  },
  {
   "cell_type": "markdown",
   "metadata": {},
   "source": [
    "*Example Output:*"
   ]
  },
  {
   "cell_type": "raw",
   "metadata": {},
   "source": [
    "ℹ To fetch an API token visit https://console.cloud.vmware.com/csp/gateway/portal/#/user/tokens\n",
    "API token****************************************************************\n",
    "Login context name  VMW_W1\n",
    "? Select default log level info\n",
    "? Select default credential tmc-workshop\n",
    "? Select default region us-east-1\n",
    "? Select default AWS SSH key bjung@vmware.com\n",
    "✔ Successfully created context \"VMW_W1\", to manage your contexts run `tmc system context -h`"
   ]
  },
  {
   "cell_type": "code",
   "execution_count": 2,
   "metadata": {},
   "outputs": [
    {
     "name": "stdout",
     "output_type": "stream",
     "text": [
      "  NAME            LABELS                \n",
      "  cg-01                                 \n",
      "  cg-02                                 \n",
      "  cg-03                                 \n",
      "  cg-04                                 \n",
      "  cg-05                                 \n",
      "  cg-06                                 \n",
      "  cg-07                                 \n",
      "  cg-08                                 \n",
      "  cg-09                                 \n",
      "  cg-10                                 \n",
      "  cg-jbrightwell                        \n",
      "  default                               \n",
      "  keith                                 \n",
      "  non-prod        environment:non-prod  \n",
      "  prod            environment:prod      \n"
     ]
    }
   ],
   "source": [
    "tmc clustergroup list"
   ]
  },
  {
   "cell_type": "markdown",
   "metadata": {},
   "source": [
    "Notice above the cluster group \"cg-jbrightwell\" does not exist"
   ]
  },
  {
   "cell_type": "code",
   "execution_count": null,
   "metadata": {},
   "outputs": [],
   "source": [
    "tmc cluster list"
   ]
  },
  {
   "cell_type": "markdown",
   "metadata": {},
   "source": [
    "Notice above the cluster \"jbrightwell-c04\" does not exist"
   ]
  },
  {
   "cell_type": "code",
   "execution_count": null,
   "metadata": {},
   "outputs": [],
   "source": [
    "tmc clustergroup templates list"
   ]
  },
  {
   "cell_type": "markdown",
   "metadata": {},
   "source": [
    "## Create a new cluster group if desired"
   ]
  },
  {
   "cell_type": "code",
   "execution_count": 4,
   "metadata": {},
   "outputs": [
    {
     "name": "stdout",
     "output_type": "stream",
     "text": [
      "\u001b[2mℹ\u001b[0m using template \"default\"\n",
      "\u001b[31m✗\u001b[0m rpc error: code = AlreadyExists desc = Failed to create cluster group \n"
     ]
    },
    {
     "ename": "",
     "evalue": "1",
     "output_type": "error",
     "traceback": []
    }
   ],
   "source": [
    "tmc clustergroup create -n $TMC_CLUSTER_GROUP -t default"
   ]
  },
  {
   "cell_type": "code",
   "execution_count": null,
   "metadata": {},
   "outputs": [],
   "source": [
    "tmc clustergroup list"
   ]
  },
  {
   "cell_type": "markdown",
   "metadata": {},
   "source": [
    "## Attach the PKS cluster into the new Cluster Group"
   ]
  },
  {
   "cell_type": "code",
   "execution_count": null,
   "metadata": {},
   "outputs": [],
   "source": [
    "tmc cluster attach -g $TMC_CLUSTER_GROUP -n $TMC_CLUSTER"
   ]
  },
  {
   "cell_type": "code",
   "execution_count": null,
   "metadata": {},
   "outputs": [],
   "source": [
    "kubectl apply -f k8s-attach-manifest.yaml"
   ]
  },
  {
   "cell_type": "code",
   "execution_count": null,
   "metadata": {},
   "outputs": [],
   "source": [
    "kubectl get namespaces"
   ]
  },
  {
   "cell_type": "markdown",
   "metadata": {},
   "source": [
    "Notice the \"vmware-system-tmc\" namespace has been created."
   ]
  },
  {
   "cell_type": "code",
   "execution_count": null,
   "metadata": {
    "scrolled": true
   },
   "outputs": [],
   "source": [
    "kubectl -n vmware-system-tmc get all"
   ]
  },
  {
   "cell_type": "code",
   "execution_count": null,
   "metadata": {},
   "outputs": [],
   "source": [
    "tmc cluster list --group $TMC_CLUSTER_GROUP"
   ]
  },
  {
   "cell_type": "markdown",
   "metadata": {},
   "source": [
    "*This appears to be a bug.  The above command should scope search to 'cg-jbrightwell'*"
   ]
  },
  {
   "cell_type": "code",
   "execution_count": null,
   "metadata": {},
   "outputs": [],
   "source": [
    "open https://vmww1.tmc.cloud.vmware.com/clusters/$TMC_CLUSTER/global/overview"
   ]
  },
  {
   "cell_type": "markdown",
   "metadata": {},
   "source": [
    "## Retrospective"
   ]
  },
  {
   "cell_type": "code",
   "execution_count": null,
   "metadata": {},
   "outputs": [],
   "source": [
    "open -a Firefox http://postfacto.us.azure.bekind.io"
   ]
  },
  {
   "cell_type": "markdown",
   "metadata": {},
   "source": [
    "### Create a Tanzu Mission Control policy managed namespace where the application will run"
   ]
  },
  {
   "cell_type": "markdown",
   "metadata": {},
   "source": [
    "### ... but first we decide to create a Workspace to manage like-policy Namespaces as one"
   ]
  },
  {
   "cell_type": "markdown",
   "metadata": {},
   "source": [
    "Here are the templates to use to create the Workspace"
   ]
  },
  {
   "cell_type": "code",
   "execution_count": null,
   "metadata": {},
   "outputs": [],
   "source": [
    "tmc workspace templates list"
   ]
  },
  {
   "cell_type": "code",
   "execution_count": null,
   "metadata": {},
   "outputs": [],
   "source": [
    "export TMC_WORKSPACE=prod-frontend\n",
    "tmc workspace create -n $TMC_WORKSPACE -d \"Production internet accessible apps\" -d default"
   ]
  },
  {
   "cell_type": "code",
   "execution_count": null,
   "metadata": {},
   "outputs": [],
   "source": [
    "tmc cluster namespace create -c $TMC_CLUSTER -n postfacto -d \"Retrospective application\" -k $TMC_WORKSPACE"
   ]
  },
  {
   "cell_type": "code",
   "execution_count": null,
   "metadata": {},
   "outputs": [],
   "source": [
    "kubectl get namespace"
   ]
  },
  {
   "cell_type": "markdown",
   "metadata": {},
   "source": [
    "### Install postfacto via helm3"
   ]
  },
  {
   "cell_type": "code",
   "execution_count": null,
   "metadata": {},
   "outputs": [],
   "source": [
    "helm3 install --namespace postfacto postfacto \\\n",
    "    --values charts/postfacto/deployment-values.yaml \\\n",
    "    https://github.com/pivotal/postfacto/releases/download/4.1.1/postfacto-0.1.0-beta.tgz\n",
    "kubectl --namespace postfacto apply -f charts/postfacto/postfacto-ingress-us-azure-bekind-io.yaml\n",
    "\n",
    "gzip -d charts/postfacto/ingress-tls-us-azure-bekind-io.yaml.gz\n",
    "kubectl --namespace postfacto apply -f charts/postfacto/ingress-tls-us-azure-bekind-io.yaml\n",
    "gzip charts/postfacto/ingress-tls-us-azure-bekind-io.yaml"
   ]
  },
  {
   "cell_type": "code",
   "execution_count": null,
   "metadata": {},
   "outputs": [],
   "source": [
    "open https://vmww1.tmc.cloud.vmware.com/clusters/$TMC_CLUSTER/global/overview"
   ]
  },
  {
   "cell_type": "code",
   "execution_count": null,
   "metadata": {
    "scrolled": false
   },
   "outputs": [],
   "source": [
    "kubectl -n postfacto get all"
   ]
  },
  {
   "cell_type": "code",
   "execution_count": null,
   "metadata": {},
   "outputs": [],
   "source": [
    "kubectl -n postfacto \\\n",
    "  exec $(kubectl -n postfacto get pods -l \"app.kubernetes.io/name\"=postfacto -o=jsonpath='{.items..metadata.name}') \\\n",
    "  create-admin-user jbrightwell@vmware.com bekind"
   ]
  },
  {
   "cell_type": "code",
   "execution_count": null,
   "metadata": {},
   "outputs": [],
   "source": [
    "open -a Firefox https://postfacto.us.azure.bekind.io/admin"
   ]
  },
  {
   "cell_type": "code",
   "execution_count": null,
   "metadata": {},
   "outputs": [],
   "source": [
    "open -a Firefox https://postfacto.us.azure.bekind.io/retros/tmc"
   ]
  },
  {
   "cell_type": "markdown",
   "metadata": {},
   "source": [
    "Fin"
   ]
  }
 ],
 "metadata": {
  "kernelspec": {
   "display_name": "Bash",
   "language": "bash",
   "name": "bash"
  },
  "language_info": {
   "codemirror_mode": "shell",
   "file_extension": ".sh",
   "mimetype": "text/x-sh",
   "name": "bash"
  }
 },
 "nbformat": 4,
 "nbformat_minor": 4
}
