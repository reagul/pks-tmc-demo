{
 "cells": [
  {
   "cell_type": "markdown",
   "metadata": {},
   "source": [
    "## Create PKS Kubernetes Cluster"
   ]
  },
  {
   "cell_type": "markdown",
   "metadata": {},
   "source": [
    "### Authenticate to your PKS API and review existing clusters"
   ]
  },
  {
   "cell_type": "code",
   "execution_count": 88,
   "metadata": {},
   "outputs": [
    {
     "name": "stdout",
     "output_type": "stream",
     "text": [
      "\n",
      "The Pivotal Container Service (PKS) CLI is used to create, manage, and delete Kubernetes clusters. To deploy workloads to a Kubernetes cluster created using the PKS CLI, use the Kubernetes CLI, kubectl.\n",
      "\n",
      "Version: 1.4.0-build.230\n",
      "\n",
      "Usage:\n",
      "  pks [command]\n",
      "\n",
      "Available Commands:\n",
      "  cluster                View the details of the cluster\n",
      "  clusters               Show all clusters created with PKS\n",
      "  create-cluster         Creates a kubernetes cluster, requires cluster name, an external host name, and plan\n",
      "  create-network-profile Create a network profile\n",
      "  create-sink            Creates a sink for sending all log data to syslog://\n",
      "  delete-cluster         Deletes a kubernetes cluster, requires cluster name\n",
      "  delete-network-profile Delete a network profile\n",
      "  delete-sink            Deletes a sink from the given cluster\n",
      "  get-credentials        Allows you to connect to a cluster and use kubectl\n",
      "  get-kubeconfig         Allows you to get kubeconfig for your username\n",
      "  help                   Help about any command\n",
      "  login                  Log in to PKS\n",
      "  logout                 Log out of PKS\n",
      "  network-profile        View a network profile\n",
      "  network-profiles       Show all network profiles created with PKS\n",
      "  plans                  View the preconfigured plans available\n",
      "  resize                 Changes the number of worker nodes for a cluster\n",
      "  sinks                  List sinks for the given cluster\n",
      "  update-cluster         Updates the configuration of a specific kubernetes cluster\n",
      "\n",
      "Flags:\n",
      "  -h, --help      help for pks\n",
      "      --version   version for pks\n",
      "\n",
      "Use \"pks [command] --help\" for more information about a command.\n",
      "\n"
     ]
    }
   ],
   "source": [
    "pks"
   ]
  },
  {
   "cell_type": "code",
   "execution_count": 89,
   "metadata": {},
   "outputs": [
    {
     "name": "stdout",
     "output_type": "stream",
     "text": [
      "\n",
      "Error: Credentials were rejected, please try again.\n"
     ]
    },
    {
     "ename": "",
     "evalue": "1",
     "output_type": "error",
     "traceback": []
    }
   ],
   "source": [
    "APIURL=api.us.azure.bekind.io\n",
    "APIUSER=scott\n",
    "APIPASS=changeme\n",
    "pks login -a $APIURL -u $APIUSER -p $APIPASS -k"
   ]
  },
  {
   "cell_type": "code",
   "execution_count": 91,
   "metadata": {
    "scrolled": true
   },
   "outputs": [
    {
     "name": "stdout",
     "output_type": "stream",
     "text": [
      "\n",
      "Name        Plan Name  UUID                                  Status     Action\n",
      "test-demo   small      77e8836c-1849-46ed-999c-26be9672bc0e  succeeded  CREATE\n",
      "test-azure  small      7c2f04bc-a66e-4f7b-a9a4-79574bebb470  succeeded  CREATE\n",
      "\n"
     ]
    }
   ],
   "source": [
    "pks clusters"
   ]
  },
  {
   "cell_type": "markdown",
   "metadata": {},
   "source": [
    "*Example Output:*"
   ]
  },
  {
   "cell_type": "raw",
   "metadata": {},
   "source": [
    "Name        Plan Name  UUID                                  Status     Action\n",
    "test-demo   small      77e8836c-1849-46ed-999c-26be9672bc0e  succeeded  CREATE\n"
   ]
  },
  {
   "cell_type": "code",
   "execution_count": 92,
   "metadata": {},
   "outputs": [
    {
     "name": "stdout",
     "output_type": "stream",
     "text": [
      "\n",
      "Name:                     test-demo\n",
      "Plan Name:                small\n",
      "UUID:                     77e8836c-1849-46ed-999c-26be9672bc0e\n",
      "Last Action:              CREATE\n",
      "Last Action State:        succeeded\n",
      "Last Action Description:  Instance provisioning completed\n",
      "Kubernetes Master Host:   demo.us.azure.bekind.io\n",
      "Kubernetes Master Port:   8443\n",
      "Worker Nodes:             3\n",
      "Kubernetes Master IP(s):  10.0.16.20\n",
      "Network Profile Name:     \n",
      "\n"
     ]
    }
   ],
   "source": [
    "pks cluster test-demo"
   ]
  },
  {
   "cell_type": "code",
   "execution_count": 94,
   "metadata": {},
   "outputs": [
    {
     "name": "stdout",
     "output_type": "stream",
     "text": [
      "\n",
      "Name   ID                                    Description\n",
      "small  8A0E21A8-8072-4D80-B365-D1F502085560  Single Master, 3 workers, privileged\n",
      "\n"
     ]
    }
   ],
   "source": [
    "pks plans"
   ]
  },
  {
   "cell_type": "markdown",
   "metadata": {},
   "source": [
    "### Create the PKS cluster"
   ]
  },
  {
   "cell_type": "code",
   "execution_count": 95,
   "metadata": {},
   "outputs": [
    {
     "name": "stdout",
     "output_type": "stream",
     "text": [
      "\n",
      "Error: accepts 1 arg(s), received 0\n",
      "Usage:\n",
      "  pks create-cluster <cluster-name> [flags]\n",
      "\n",
      "Examples:\n",
      "  pks create-cluster my-cluster --external-hostname example.hostname --plan production\n",
      "\n",
      "Flags:\n",
      "  -e, --external-hostname string   Address from which to access Kubernetes API\n",
      "  -h, --help                       help for create-cluster\n",
      "      --json                       Return the PKS-API output as json\n",
      "      --network-profile string     Optional, network profile name (NSX-T only)\n",
      "      --non-interactive            Don't ask for user input\n",
      "  -n, --num-nodes string           Number of worker nodes\n",
      "  -p, --plan string                Preconfigured plans. Run pks plans for more details\n",
      "      --wait                       Wait for the operation to finish\n",
      "\n"
     ]
    },
    {
     "ename": "",
     "evalue": "1",
     "output_type": "error",
     "traceback": []
    }
   ],
   "source": [
    "pks create-cluster"
   ]
  },
  {
   "cell_type": "markdown",
   "metadata": {},
   "source": [
    "### Decision time... "
   ]
  },
  {
   "cell_type": "markdown",
   "metadata": {},
   "source": [
    "Decide now how you will access the master node(s) of the resulting K8s cluster before you continue.\n",
    "\n",
    "In my case, I have a domain us.azure.bekind.io into which I will manually create a DNS entry for a load balancer whose backend points to a pool of master node(s).\n",
    "\n",
    "At the very least, if you specify an IP address in the \"external-hostname,\" you have to have already acquired that public IP address on your cloud provider.  This IP or DNS name should be publically accessible."
   ]
  },
  {
   "cell_type": "code",
   "execution_count": 96,
   "metadata": {},
   "outputs": [
    {
     "name": "stdout",
     "output_type": "stream",
     "text": [
      "\n",
      "Error: The cluster named \"test-azure\" already exists. Please use a different name.\n"
     ]
    },
    {
     "ename": "",
     "evalue": "1",
     "output_type": "error",
     "traceback": []
    }
   ],
   "source": [
    "pks create-cluster test-azure --external-hostname test.us.azure.bekind.io --plan small"
   ]
  },
  {
   "cell_type": "markdown",
   "metadata": {},
   "source": [
    "*Example Output:*"
   ]
  },
  {
   "cell_type": "raw",
   "metadata": {},
   "source": [
    "Name:                     test-demo\n",
    "Plan Name:                small\n",
    "UUID:                     7c2f04bc-a66e-4f7b-a9a4-79574bebb470\n",
    "Last Action:              CREATE\n",
    "Last Action State:        in progress\n",
    "Last Action Description:  Creating cluster\n",
    "Kubernetes Master Host:   test.us.azure.bekind.io\n",
    "Kubernetes Master Port:   8443\n",
    "Worker Nodes:             3\n",
    "Kubernetes Master IP(s):  In Progress\n",
    "Network Profile Name:\n",
    "\n",
    "Use 'pks cluster test-azure' to monitor the state of your cluster"
   ]
  },
  {
   "cell_type": "markdown",
   "metadata": {},
   "source": [
    "Monitor `pks clusters` until the cluster creation is successful"
   ]
  },
  {
   "cell_type": "code",
   "execution_count": 97,
   "metadata": {},
   "outputs": [
    {
     "name": "stdout",
     "output_type": "stream",
     "text": [
      "\n",
      "Name        Plan Name  UUID                                  Status     Action\n",
      "test-demo   small      77e8836c-1849-46ed-999c-26be9672bc0e  succeeded  CREATE\n",
      "test-azure  small      7c2f04bc-a66e-4f7b-a9a4-79574bebb470  succeeded  CREATE\n",
      "\n"
     ]
    }
   ],
   "source": [
    "pks clusters"
   ]
  },
  {
   "cell_type": "markdown",
   "metadata": {},
   "source": [
    "Capture the credentials for your new K8s cluster"
   ]
  },
  {
   "cell_type": "code",
   "execution_count": 99,
   "metadata": {},
   "outputs": [
    {
     "name": "stdout",
     "output_type": "stream",
     "text": [
      "\n",
      "Fetching credentials for cluster test-azure.\n",
      "Context set for cluster test-azure.\n",
      "\n",
      "You can now switch between clusters by using:\n",
      "$kubectl config use-context <cluster-name>\n"
     ]
    }
   ],
   "source": [
    "pks get-credentials test-azure"
   ]
  },
  {
   "cell_type": "markdown",
   "metadata": {},
   "source": [
    "Examine your new cluster"
   ]
  },
  {
   "cell_type": "code",
   "execution_count": 100,
   "metadata": {},
   "outputs": [
    {
     "name": "stdout",
     "output_type": "stream",
     "text": [
      "Switched to context \"test-azure\".\n"
     ]
    }
   ],
   "source": [
    "kubectl config use-context test-azure"
   ]
  },
  {
   "cell_type": "code",
   "execution_count": 101,
   "metadata": {},
   "outputs": [
    {
     "name": "stdout",
     "output_type": "stream",
     "text": [
      "\u001b[0;32mKubernetes master\u001b[0m is running at \u001b[0;33mhttps://test.us.azure.bekind.io:8443\u001b[0m\n",
      "\u001b[0;32mCoreDNS\u001b[0m is running at \u001b[0;33mhttps://test.us.azure.bekind.io:8443/api/v1/namespaces/kube-system/services/kube-dns:dns/proxy\u001b[0m\n",
      "\n",
      "To further debug and diagnose cluster problems, use 'kubectl cluster-info dump'.\n"
     ]
    }
   ],
   "source": [
    "kubectl cluster-info"
   ]
  },
  {
   "cell_type": "code",
   "execution_count": 102,
   "metadata": {},
   "outputs": [
    {
     "name": "stdout",
     "output_type": "stream",
     "text": [
      "NAME              STATUS   AGE\n",
      "concourse         Active   67d\n",
      "concourse-main    Active   67d\n",
      "default           Active   70d\n",
      "harbor            Active   64d\n",
      "kpack             Active   67d\n",
      "kube-node-lease   Active   70d\n",
      "kube-public       Active   70d\n",
      "kube-system       Active   70d\n",
      "nginx-ingress     Active   67d\n",
      "pks-system        Active   70d\n",
      "wap-admin         Active   67d\n"
     ]
    }
   ],
   "source": [
    "kubectl get namespaces"
   ]
  },
  {
   "cell_type": "markdown",
   "metadata": {},
   "source": [
    "Notice above the following namespaces DO NOT exist:\n",
    "* vmware-system-tmc\n",
    "* postfacto"
   ]
  },
  {
   "cell_type": "markdown",
   "metadata": {},
   "source": [
    "# Attach the cluster to Tanzu Mission Control"
   ]
  },
  {
   "cell_type": "markdown",
   "metadata": {},
   "source": [
    "Login to TMC via https://console.cloud.vmware.com"
   ]
  },
  {
   "cell_type": "markdown",
   "metadata": {},
   "source": [
    "Download the TMC CLI, make it executable, and move it into your system path"
   ]
  },
  {
   "cell_type": "code",
   "execution_count": 103,
   "metadata": {},
   "outputs": [
    {
     "name": "stdout",
     "output_type": "stream",
     "text": [
      "____  _ ____\n",
      " | |\\/| |___\n",
      "\n",
      "Usage:\n",
      "  tmc [resource|action|helper] [flags]\n",
      "\n",
      "Resources:\n",
      "  account       Account management.\n",
      "  cluster       A Kubernetes cluster.\n",
      "  clustergroup  A group of Kubernetes clusters.\n",
      "  organization  Organization level management.\n",
      "  workspace     A group of managed Kubenetes namespaces.\n",
      "\n",
      "Actions:\n",
      "  login         Login to Tanzu Mission Control.\n",
      "  update        Update the CLI.\n",
      "\n",
      "Helpers:\n",
      "  completion    Generate a bash completion script.\n",
      "  configure     Configure the current context environment\n",
      "  iam           Permission management for resources.\n",
      "  options       General options for Tanzu Mission Control.\n",
      "  system        System level configuration and resources.\n",
      "  version       Print CLI version.\n",
      "\n",
      "Flags:\n",
      "  -h, --help   help for tmc\n",
      "\n",
      "Use \"tmc [command] --help\" for more information about a command.\n",
      "\n",
      "Tanzu Mission Control v1.0\n",
      "Copyright (c) 2020 VMware\n",
      "https://vmware.bintray.com/tmc/tmc-eula.txt\n"
     ]
    }
   ],
   "source": [
    "tmc"
   ]
  },
  {
   "cell_type": "code",
   "execution_count": 104,
   "metadata": {},
   "outputs": [],
   "source": [
    "# tmc login"
   ]
  },
  {
   "cell_type": "markdown",
   "metadata": {},
   "source": [
    "*Example Output:*"
   ]
  },
  {
   "cell_type": "raw",
   "metadata": {},
   "source": [
    "ℹ To fetch an API token visit https://console.cloud.vmware.com/csp/gateway/portal/#/user/tokens\n",
    "API token****************************************************************\n",
    "Login context name  VMW_W1\n",
    "? Select default log level info\n",
    "? Select default credential tmc-workshop\n",
    "? Select default region us-east-1\n",
    "? Select default AWS SSH key bjung@vmware.com\n",
    "✔ Successfully created context \"VMW_W1\", to manage your contexts run `tmc system context -h`"
   ]
  },
  {
   "cell_type": "code",
   "execution_count": 106,
   "metadata": {},
   "outputs": [
    {
     "name": "stdout",
     "output_type": "stream",
     "text": [
      "  NAME      LABELS                \n",
      "  cg-01                           \n",
      "  cg-02                           \n",
      "  cg-03                           \n",
      "  cg-04                           \n",
      "  cg-05                           \n",
      "  cg-06                           \n",
      "  cg-07                           \n",
      "  cg-08                           \n",
      "  cg-09                           \n",
      "  cg-10                           \n",
      "  default                         \n",
      "  keith                           \n",
      "  non-prod  environment:non-prod  \n",
      "  prod      environment:prod      \n"
     ]
    }
   ],
   "source": [
    "tmc clustergroup list"
   ]
  },
  {
   "cell_type": "markdown",
   "metadata": {},
   "source": [
    "Notice above the cluster group \"cg-jbrightwell\" does not exist"
   ]
  },
  {
   "cell_type": "code",
   "execution_count": 107,
   "metadata": {},
   "outputs": [
    {
     "name": "stdout",
     "output_type": "stream",
     "text": [
      "  NAME                  CLUSTERGROUP  PROVIDER  STATE  HEALTH   LABELS                                    \n",
      "  c-01                  cg-01         AWS_EC2   READY  HEALTHY  tmc.cloud.vmware.com/creator:bjung        \n",
      "  c-02                  cg-02         AWS_EC2   READY  HEALTHY  tmc.cloud.vmware.com/creator:bjung        \n",
      "  c-03                  cg-03         AWS_EC2   READY  HEALTHY  tmc.cloud.vmware.com/creator:bjung        \n",
      "  c-04                  cg-04         AWS_EC2   READY  HEALTHY  tmc.cloud.vmware.com/creator:bjung        \n",
      "  c-05                  cg-05         AWS_EC2   READY  HEALTHY  tmc.cloud.vmware.com/creator:bjung        \n",
      "  c-07                  cg-07         AWS_EC2   READY  HEALTHY  tmc.cloud.vmware.com/creator:bjung        \n",
      "  c-08                  cg-08         AWS_EC2   READY  HEALTHY  tmc.cloud.vmware.com/creator:bjung        \n",
      "  c-09                  cg-09         AWS_EC2   READY  HEALTHY  tmc.cloud.vmware.com/creator:bjung        \n",
      "  c-10                  cg-10         AWS_EC2   READY  HEALTHY  tmc.cloud.vmware.com/creator:bjung        \n",
      "  omnichannel-non-prod  non-prod      GCP_GCE   READY  HEALTHY  environment:non-prod iaas:gcp             \n",
      "                                                                region:us-central1-b runtime:gke          \n",
      "                                                                tmc.cloud.vmware.com/creator:bhenzelmann  \n",
      "  omnichannel-prod      prod          GCP_GCE   READY  HEALTHY  environment:prod iaas:gcp                 \n",
      "                                                                region:us-central1-a runtime:gke          \n",
      "                                                                tmc.cloud.vmware.com/creator:bhenzelmann  \n",
      "  shared-services-prod  prod          AWS_EC2   READY  HEALTHY  environment:prod iaas:aws                 \n",
      "                                                                region:us-east runtime:tanzu              \n",
      "                                                                tmc.cloud.vmware.com/creator:bhenzelmann  \n",
      "  shared-svcs-non-prod  non-prod      AWS_EC2   READY  HEALTHY  environment:non-prod iaas:aws             \n",
      "                                                                region:us-east runtime:tanzu              \n",
      "                                                                tmc.cloud.vmware.com/creator:bhenzelmann  \n"
     ]
    }
   ],
   "source": [
    "tmc cluster list"
   ]
  },
  {
   "cell_type": "markdown",
   "metadata": {},
   "source": [
    "Notice above the cluster \"jbrightwell-c04\" does not exist"
   ]
  },
  {
   "cell_type": "code",
   "execution_count": 109,
   "metadata": {},
   "outputs": [
    {
     "name": "stdout",
     "output_type": "stream",
     "text": [
      "  NAME         DESCRIPTION                                            \n",
      "  default      A default ClusterGroup object.                         \n",
      "  default-iam  default template for the iam-policy resource           \n",
      "  generated    generated full template for the ClusterGroup resource  \n"
     ]
    }
   ],
   "source": [
    "tmc clustergroup templates list"
   ]
  },
  {
   "cell_type": "markdown",
   "metadata": {},
   "source": [
    "## Create a new cluster group if desired"
   ]
  },
  {
   "cell_type": "code",
   "execution_count": 110,
   "metadata": {},
   "outputs": [
    {
     "name": "stdout",
     "output_type": "stream",
     "text": [
      "\u001b[2mℹ\u001b[0m using template \"default\"\n",
      "\u001b[32m✔\u001b[0m clustergroup \"cg-jbrightwell\" created successfully \n"
     ]
    }
   ],
   "source": [
    "tmc clustergroup create -n cg-jbrightwell -t default"
   ]
  },
  {
   "cell_type": "code",
   "execution_count": 111,
   "metadata": {},
   "outputs": [
    {
     "name": "stdout",
     "output_type": "stream",
     "text": [
      "  NAME            LABELS                \n",
      "  cg-01                                 \n",
      "  cg-02                                 \n",
      "  cg-03                                 \n",
      "  cg-04                                 \n",
      "  cg-05                                 \n",
      "  cg-06                                 \n",
      "  cg-07                                 \n",
      "  cg-08                                 \n",
      "  cg-09                                 \n",
      "  cg-10                                 \n",
      "  cg-jbrightwell                        \n",
      "  default                               \n",
      "  keith                                 \n",
      "  non-prod        environment:non-prod  \n",
      "  prod            environment:prod      \n"
     ]
    }
   ],
   "source": [
    "tmc clustergroup list"
   ]
  },
  {
   "cell_type": "markdown",
   "metadata": {},
   "source": [
    "## Attach the PKS cluster into the new Cluster Group"
   ]
  },
  {
   "cell_type": "code",
   "execution_count": 112,
   "metadata": {},
   "outputs": [
    {
     "name": "stdout",
     "output_type": "stream",
     "text": [
      "\u001b[32m✔\u001b[0m cluster \"jbrightwell-c03\" created successfully \n",
      "\u001b[2mℹ\u001b[0m Run `kubectl apply -f k8s-attach-manifest.yaml` to attach the cluster\n"
     ]
    }
   ],
   "source": [
    "tmc cluster attach -g cg-jbrightwell -n jbrightwell-c04"
   ]
  },
  {
   "cell_type": "code",
   "execution_count": 113,
   "metadata": {},
   "outputs": [
    {
     "name": "stdout",
     "output_type": "stream",
     "text": [
      "namespace/vmware-system-tmc created\n",
      "configmap/stack-config created\n",
      "secret/tmc-client-secret created\n",
      "customresourcedefinition.apiextensions.k8s.io/agents.clusters.tmc.cloud.vmware.com created\n",
      "customresourcedefinition.apiextensions.k8s.io/extensions.clusters.tmc.cloud.vmware.com created\n",
      "serviceaccount/extension-manager created\n",
      "clusterrole.rbac.authorization.k8s.io/extension-manager-role created\n",
      "clusterrolebinding.rbac.authorization.k8s.io/extension-manager-rolebinding created\n",
      "service/extension-manager-service created\n",
      "deployment.apps/extension-manager created\n",
      "serviceaccount/extension-updater-serviceaccount created\n",
      "clusterrole.rbac.authorization.k8s.io/extension-updater-clusterrole created\n",
      "clusterrolebinding.rbac.authorization.k8s.io/extension-updater-clusterrolebinding created\n",
      "service/extension-updater created\n",
      "deployment.apps/extension-updater created\n",
      "serviceaccount/agent-updater created\n",
      "clusterrole.rbac.authorization.k8s.io/agent-updater-role created\n",
      "clusterrolebinding.rbac.authorization.k8s.io/agent-updater-rolebinding created\n",
      "deployment.apps/agent-updater created\n",
      "cronjob.batch/agentupdater-workload created\n"
     ]
    }
   ],
   "source": [
    "kubectl apply -f k8s-attach-manifest.yaml"
   ]
  },
  {
   "cell_type": "code",
   "execution_count": 115,
   "metadata": {},
   "outputs": [
    {
     "name": "stdout",
     "output_type": "stream",
     "text": [
      "NAME                STATUS   AGE\n",
      "concourse           Active   67d\n",
      "concourse-main      Active   67d\n",
      "default             Active   70d\n",
      "harbor              Active   64d\n",
      "kpack               Active   67d\n",
      "kube-node-lease     Active   70d\n",
      "kube-public         Active   70d\n",
      "kube-system         Active   70d\n",
      "nginx-ingress       Active   67d\n",
      "pks-system          Active   70d\n",
      "vmware-system-tmc   Active   12s\n",
      "wap-admin           Active   67d\n"
     ]
    }
   ],
   "source": [
    "kubectl get namespaces"
   ]
  },
  {
   "cell_type": "markdown",
   "metadata": {},
   "source": [
    "Notice the \"vmware-system-tmc\" namespace has been created."
   ]
  },
  {
   "cell_type": "code",
   "execution_count": 120,
   "metadata": {
    "scrolled": true
   },
   "outputs": [
    {
     "name": "stdout",
     "output_type": "stream",
     "text": [
      "NAME                                         READY   STATUS      RESTARTS   AGE\n",
      "pod/agent-updater-65b6c5b7b7-wctvh           1/1     Running     0          47s\n",
      "pod/agentupdater-workload-1580255520-t9xdl   0/1     Completed   0          35s\n",
      "pod/data-protection-5cd89cd965-khwgb         1/1     Running     0          21s\n",
      "pod/extension-manager-7f9b95f67b-shrdg       1/1     Running     0          49s\n",
      "pod/extension-updater-66bb47f457-jzvcw       1/1     Running     0          48s\n",
      "pod/inspection-extension-ccfc779b4-s8spg     1/1     Running     0          32s\n",
      "pod/intent-agent-64858578d-zpnxd             1/1     Running     0          26s\n",
      "pod/policy-sync-extension-68cf556c85-zm68l   1/1     Running     0          29s\n",
      "pod/policy-webhook-64866489bd-gdws8          1/1     Running     1          29s\n",
      "pod/policy-webhook-64866489bd-rqllh          1/1     Running     1          29s\n",
      "pod/sync-agent-6564996cc7-jg4z6              1/1     Running     0          24s\n",
      "\n",
      "NAME                                TYPE        CLUSTER-IP       EXTERNAL-IP   PORT(S)    AGE\n",
      "service/data-protection-service     ClusterIP   10.100.200.74    <none>        443/TCP    21s\n",
      "service/extension-manager-service   ClusterIP   10.100.200.163   <none>        443/TCP    50s\n",
      "service/extension-updater           ClusterIP   10.100.200.37    <none>        9999/TCP   48s\n",
      "service/inspection-extension        ClusterIP   10.100.200.225   <none>        443/TCP    32s\n",
      "service/policy-sync-extension       ClusterIP   10.100.200.169   <none>        443/TCP    30s\n",
      "service/policy-webhook-service      ClusterIP   10.100.200.64    <none>        443/TCP    30s\n",
      "\n",
      "NAME                                    READY   UP-TO-DATE   AVAILABLE   AGE\n",
      "deployment.apps/agent-updater           1/1     1            1           48s\n",
      "deployment.apps/data-protection         1/1     1            0           22s\n",
      "deployment.apps/extension-manager       1/1     1            1           50s\n",
      "deployment.apps/extension-updater       1/1     1            1           49s\n",
      "deployment.apps/inspection-extension    1/1     1            0           33s\n",
      "deployment.apps/intent-agent            1/1     1            1           27s\n",
      "deployment.apps/policy-sync-extension   1/1     1            0           30s\n",
      "deployment.apps/policy-webhook          2/2     2            0           30s\n",
      "deployment.apps/sync-agent              1/1     1            1           26s\n",
      "\n",
      "NAME                                               DESIRED   CURRENT   READY   AGE\n",
      "replicaset.apps/agent-updater-65b6c5b7b7           1         1         1       48s\n",
      "replicaset.apps/data-protection-5cd89cd965         1         1         1       22s\n",
      "replicaset.apps/extension-manager-7f9b95f67b       1         1         1       50s\n",
      "replicaset.apps/extension-updater-66bb47f457       1         1         1       49s\n",
      "replicaset.apps/inspection-extension-ccfc779b4     1         1         1       33s\n",
      "replicaset.apps/intent-agent-64858578d             1         1         1       27s\n",
      "replicaset.apps/policy-sync-extension-68cf556c85   1         1         1       30s\n",
      "replicaset.apps/policy-webhook-64866489bd          2         2         2       30s\n",
      "replicaset.apps/sync-agent-6564996cc7              1         1         1       26s\n",
      "\n",
      "NAME                                         COMPLETIONS   DURATION   AGE\n",
      "job.batch/agentupdater-workload-1580255520   1/1           6s         36s\n",
      "\n",
      "NAME                                                SCHEDULE      SUSPEND   ACTIVE   LAST SCHEDULE   AGE\n",
      "cronjob.batch/agentupdater-workload                 */1 * * * *   False     0        45s             48s\n",
      "cronjob.batch/policy-webhook-cert-manager-cronjob   0 0 1 * *     False     0        <none>          30s\n"
     ]
    }
   ],
   "source": [
    "kubectl -n vmware-system-tmc get all"
   ]
  },
  {
   "cell_type": "code",
   "execution_count": 121,
   "metadata": {},
   "outputs": [
    {
     "name": "stdout",
     "output_type": "stream",
     "text": [
      "  NAME            LABELS                \n",
      "  cg-01                                 \n",
      "  cg-02                                 \n",
      "  cg-03                                 \n",
      "  cg-04                                 \n",
      "  cg-05                                 \n",
      "  cg-06                                 \n",
      "  cg-07                                 \n",
      "  cg-08                                 \n",
      "  cg-09                                 \n",
      "  cg-10                                 \n",
      "  cg-jbrightwell                        \n",
      "  default                               \n",
      "  keith                                 \n",
      "  non-prod        environment:non-prod  \n",
      "  prod            environment:prod      \n"
     ]
    }
   ],
   "source": [
    "tmc clustergroup list"
   ]
  },
  {
   "cell_type": "code",
   "execution_count": 122,
   "metadata": {},
   "outputs": [
    {
     "name": "stdout",
     "output_type": "stream",
     "text": [
      "  NAME                  CLUSTERGROUP    PROVIDER       STATE  HEALTH   LABELS                                    \n",
      "  c-01                  cg-01           AWS_EC2        READY  HEALTHY  tmc.cloud.vmware.com/creator:bjung        \n",
      "  c-02                  cg-02           AWS_EC2        READY  HEALTHY  tmc.cloud.vmware.com/creator:bjung        \n",
      "  c-03                  cg-03           AWS_EC2        READY  HEALTHY  tmc.cloud.vmware.com/creator:bjung        \n",
      "  c-04                  cg-04           AWS_EC2        READY  HEALTHY  tmc.cloud.vmware.com/creator:bjung        \n",
      "  c-05                  cg-05           AWS_EC2        READY  HEALTHY  tmc.cloud.vmware.com/creator:bjung        \n",
      "  c-07                  cg-07           AWS_EC2        READY  HEALTHY  tmc.cloud.vmware.com/creator:bjung        \n",
      "  c-08                  cg-08           AWS_EC2        READY  HEALTHY  tmc.cloud.vmware.com/creator:bjung        \n",
      "  c-09                  cg-09           AWS_EC2        READY  HEALTHY  tmc.cloud.vmware.com/creator:bjung        \n",
      "  c-10                  cg-10           AWS_EC2        READY  HEALTHY  tmc.cloud.vmware.com/creator:bjung        \n",
      "  jbrightwell-c03       cg-jbrightwell  AZURE_COMPUTE  READY  HEALTHY  tmc.cloud.vmware.com/creator:jbrightwell  \n",
      "  omnichannel-non-prod  non-prod        GCP_GCE        READY  HEALTHY  environment:non-prod iaas:gcp             \n",
      "                                                                       region:us-central1-b runtime:gke          \n",
      "                                                                       tmc.cloud.vmware.com/creator:bhenzelmann  \n",
      "  omnichannel-prod      prod            GCP_GCE        READY  HEALTHY  environment:prod iaas:gcp                 \n",
      "                                                                       region:us-central1-a runtime:gke          \n",
      "                                                                       tmc.cloud.vmware.com/creator:bhenzelmann  \n",
      "  shared-services-prod  prod            AWS_EC2        READY  HEALTHY  environment:prod iaas:aws                 \n",
      "                                                                       region:us-east runtime:tanzu              \n",
      "                                                                       tmc.cloud.vmware.com/creator:bhenzelmann  \n",
      "  shared-svcs-non-prod  non-prod        AWS_EC2        READY  HEALTHY  environment:non-prod iaas:aws             \n",
      "                                                                       region:us-east runtime:tanzu              \n",
      "                                                                       tmc.cloud.vmware.com/creator:bhenzelmann  \n"
     ]
    }
   ],
   "source": [
    "tmc cluster list --group cg-jbrightwell"
   ]
  },
  {
   "cell_type": "markdown",
   "metadata": {},
   "source": [
    "*This appears to be a bug.  The above command should scope search to 'cg-jbrightwell'*"
   ]
  },
  {
   "cell_type": "code",
   "execution_count": 123,
   "metadata": {},
   "outputs": [],
   "source": [
    "open https://vmww1.tmc.cloud.vmware.com/clusters/jbrightwell-c04/global/overview"
   ]
  },
  {
   "cell_type": "markdown",
   "metadata": {},
   "source": [
    "## Retrospective"
   ]
  },
  {
   "cell_type": "code",
   "execution_count": 124,
   "metadata": {},
   "outputs": [],
   "source": [
    "open -a Firefox http://postfacto.us.azure.bekind.io"
   ]
  },
  {
   "cell_type": "code",
   "execution_count": 125,
   "metadata": {},
   "outputs": [
    {
     "name": "stdout",
     "output_type": "stream",
     "text": [
      "namespace/postfacto created\n",
      "NAME: postfacto\n",
      "LAST DEPLOYED: Tue Jan 28 17:55:09 2020\n",
      "NAMESPACE: postfacto\n",
      "STATUS: deployed\n",
      "REVISION: 1\n",
      "NOTES:\n",
      "1. Get the application URL by running these commands:\n",
      "  export POD_NAME=$(kubectl get pods --namespace postfacto -l \"app.kubernetes.io/name=postfacto,app.kubernetes.io/instance=postfacto\" -o jsonpath=\"{.items[0].metadata.name}\")\n",
      "  echo \"Visit http://127.0.0.1:8080 to use your application\"\n",
      "  kubectl port-forward $POD_NAME 8080:80\n",
      "ingress.extensions/postfacto-ingress created\n",
      "secret/ingress-tls-us-azure-bekind-io created\n"
     ]
    }
   ],
   "source": [
    "sh -c \"cd charts/postfacto ; ./install-postfacto.sh\""
   ]
  },
  {
   "cell_type": "code",
   "execution_count": 127,
   "metadata": {},
   "outputs": [],
   "source": [
    "open https://vmww1.tmc.cloud.vmware.com/clusters/jbrightwell-c03/global/overview"
   ]
  },
  {
   "cell_type": "code",
   "execution_count": 128,
   "metadata": {
    "scrolled": false
   },
   "outputs": [
    {
     "name": "stdout",
     "output_type": "stream",
     "text": [
      "NAME                             READY   STATUS    RESTARTS   AGE\n",
      "pod/postfacto-6dfcbb48bd-z4tjh   1/1     Running   0          92s\n",
      "pod/postfacto-postgresql-0       1/1     Running   0          92s\n",
      "pod/postfacto-redis-master-0     1/1     Running   0          92s\n",
      "\n",
      "NAME                                    TYPE        CLUSTER-IP      EXTERNAL-IP   PORT(S)    AGE\n",
      "service/postfacto                       ClusterIP   10.100.200.5    <none>        80/TCP     93s\n",
      "service/postfacto-postgresql            ClusterIP   10.100.200.95   <none>        5432/TCP   93s\n",
      "service/postfacto-postgresql-headless   ClusterIP   None            <none>        5432/TCP   93s\n",
      "service/postfacto-redis-headless        ClusterIP   None            <none>        6379/TCP   93s\n",
      "service/postfacto-redis-master          ClusterIP   10.100.200.53   <none>        6379/TCP   93s\n",
      "\n",
      "NAME                        READY   UP-TO-DATE   AVAILABLE   AGE\n",
      "deployment.apps/postfacto   1/1     1            1           93s\n",
      "\n",
      "NAME                                   DESIRED   CURRENT   READY   AGE\n",
      "replicaset.apps/postfacto-6dfcbb48bd   1         1         1       93s\n",
      "\n",
      "NAME                                      READY   AGE\n",
      "statefulset.apps/postfacto-postgresql     1/1     93s\n",
      "statefulset.apps/postfacto-redis-master   1/1     93s\n"
     ]
    }
   ],
   "source": [
    "kubectl -n postfacto get all"
   ]
  },
  {
   "cell_type": "code",
   "execution_count": 129,
   "metadata": {},
   "outputs": [],
   "source": [
    "kubectl -n postfacto \\\n",
    "  exec $(kubectl -n postfacto get pods -l \"app.kubernetes.io/name\"=postfacto -o=jsonpath='{.items..metadata.name}') \\\n",
    "  create-admin-user jbrightwell@vmware.com bekind"
   ]
  },
  {
   "cell_type": "code",
   "execution_count": 130,
   "metadata": {},
   "outputs": [],
   "source": [
    "open -a Firefox https://postfacto.us.azure.bekind.io/admin"
   ]
  },
  {
   "cell_type": "code",
   "execution_count": 131,
   "metadata": {},
   "outputs": [],
   "source": [
    "open -a Firefox https://postfacto.us.azure.bekind.io/retros/tmc"
   ]
  },
  {
   "cell_type": "markdown",
   "metadata": {},
   "source": [
    "Fin"
   ]
  }
 ],
 "metadata": {
  "kernelspec": {
   "display_name": "Bash",
   "language": "bash",
   "name": "bash"
  },
  "language_info": {
   "codemirror_mode": "shell",
   "file_extension": ".sh",
   "mimetype": "text/x-sh",
   "name": "bash"
  }
 },
 "nbformat": 4,
 "nbformat_minor": 4
}
